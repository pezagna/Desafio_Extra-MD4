{
 "cells": [
  {
   "cell_type": "code",
   "execution_count": 249,
   "metadata": {},
   "outputs": [],
   "source": [
    "# Carregando arquivo CSV\n",
    "import pandas as pd\n",
    "dados = pd.read_csv('milsa.csv')"
   ]
  },
  {
   "attachments": {},
   "cell_type": "markdown",
   "metadata": {},
   "source": [
    "### **Primeiramente, coloque a coluna Funcionário como índice;**"
   ]
  },
  {
   "cell_type": "code",
   "execution_count": 250,
   "metadata": {},
   "outputs": [
    {
     "name": "stdout",
     "output_type": "stream",
     "text": [
      "            Est.civil      Inst  Filhos  Salario  Anos  Meses    Regiao\n",
      "Funcionario                                                            \n",
      "1            solteiro   1o Grau     NaN     4.00    26      3  interior\n",
      "2              casado   1o Grau     1.0     4.56    32     10   capital\n",
      "3              casado   1o Grau     2.0     5.25    36      5   capital\n",
      "4            solteiro   2o Grau     NaN     5.73    20     10     outro\n",
      "5            solteiro   1o Grau     NaN     6.26    40      7     outro\n",
      "6              casado   1o Grau     0.0     6.66    28      0  interior\n",
      "7            solteiro   1o Grau     NaN     6.86    41      0  interior\n",
      "8            solteiro   1o Grau     NaN     7.39    43      4   capital\n",
      "9              casado   2o Grau     1.0     7.59    34     10   capital\n",
      "10           solteiro   2o Grau     NaN     7.44    23      6     outro\n",
      "11             casado   2o Grau     2.0     8.12    33      6  interior\n",
      "12           solteiro   1o Grau     NaN     8.46    27     11   capital\n",
      "13           solteiro   2o Grau     NaN     8.74    37      5     outro\n",
      "14             casado   1o Grau     3.0     8.95    44      2     outro\n",
      "15             casado   2o Grau     0.0     9.13    30      5  interior\n",
      "16           solteiro   2o Grau     NaN     9.35    38      8     outro\n",
      "17             casado   2o Grau     1.0     9.77    31      7   capital\n",
      "18             casado   1o Grau     2.0     9.80    39      7     outro\n",
      "19           solteiro  Superior     NaN    10.53    25      8  interior\n",
      "20           solteiro   2o Grau     NaN    10.76    37      4  interior\n",
      "21             casado   2o Grau     1.0    11.06    30      9     outro\n",
      "22           solteiro   2o Grau     NaN    11.59    34      2   capital\n",
      "23           solteiro   1o Grau     NaN    12.00    41      0     outro\n",
      "24             casado  Superior     0.0    12.79    26      1     outro\n",
      "25             casado   2o Grau     2.0    13.23    32      5  interior\n",
      "26             casado   2o Grau     2.0    13.60    35      0     outro\n",
      "27           solteiro   1o Grau     NaN    13.85    46      7     outro\n",
      "28             casado   2o Grau     0.0    14.69    29      8  interior\n",
      "29             casado   2o Grau     5.0    14.71    40      6  interior\n",
      "30             casado   2o Grau     2.0    15.99    35     10   capital\n",
      "31           solteiro  Superior     NaN    16.22    31      5     outro\n",
      "32             casado   2o Grau     1.0    16.61    36      4  interior\n",
      "33             casado  Superior     3.0    17.26    43      7   capital\n",
      "34           solteiro  Superior     NaN    18.75    33      7   capital\n",
      "35             casado   2o Grau     2.0    19.40    48     11   capital\n",
      "36             casado  Superior     3.0    23.30    42      2  interior\n"
     ]
    }
   ],
   "source": [
    "# Primeiramente, coloque a coluna Funcionário como índice;\n",
    "dados = dados.set_index('Funcionario')\n",
    "print(dados)\n",
    "\n"
   ]
  },
  {
   "attachments": {},
   "cell_type": "markdown",
   "metadata": {},
   "source": [
    "### **Saiba que a coluna meses não é necessária para a análise e deve ser retirada;**"
   ]
  },
  {
   "cell_type": "code",
   "execution_count": 251,
   "metadata": {},
   "outputs": [
    {
     "name": "stdout",
     "output_type": "stream",
     "text": [
      "            Est.civil      Inst  Filhos  Salario  Anos    Regiao\n",
      "Funcionario                                                     \n",
      "1            solteiro   1o Grau     NaN     4.00    26  interior\n",
      "2              casado   1o Grau     1.0     4.56    32   capital\n",
      "3              casado   1o Grau     2.0     5.25    36   capital\n",
      "4            solteiro   2o Grau     NaN     5.73    20     outro\n",
      "5            solteiro   1o Grau     NaN     6.26    40     outro\n",
      "6              casado   1o Grau     0.0     6.66    28  interior\n",
      "7            solteiro   1o Grau     NaN     6.86    41  interior\n",
      "8            solteiro   1o Grau     NaN     7.39    43   capital\n",
      "9              casado   2o Grau     1.0     7.59    34   capital\n",
      "10           solteiro   2o Grau     NaN     7.44    23     outro\n",
      "11             casado   2o Grau     2.0     8.12    33  interior\n",
      "12           solteiro   1o Grau     NaN     8.46    27   capital\n",
      "13           solteiro   2o Grau     NaN     8.74    37     outro\n",
      "14             casado   1o Grau     3.0     8.95    44     outro\n",
      "15             casado   2o Grau     0.0     9.13    30  interior\n",
      "16           solteiro   2o Grau     NaN     9.35    38     outro\n",
      "17             casado   2o Grau     1.0     9.77    31   capital\n",
      "18             casado   1o Grau     2.0     9.80    39     outro\n",
      "19           solteiro  Superior     NaN    10.53    25  interior\n",
      "20           solteiro   2o Grau     NaN    10.76    37  interior\n",
      "21             casado   2o Grau     1.0    11.06    30     outro\n",
      "22           solteiro   2o Grau     NaN    11.59    34   capital\n",
      "23           solteiro   1o Grau     NaN    12.00    41     outro\n",
      "24             casado  Superior     0.0    12.79    26     outro\n",
      "25             casado   2o Grau     2.0    13.23    32  interior\n",
      "26             casado   2o Grau     2.0    13.60    35     outro\n",
      "27           solteiro   1o Grau     NaN    13.85    46     outro\n",
      "28             casado   2o Grau     0.0    14.69    29  interior\n",
      "29             casado   2o Grau     5.0    14.71    40  interior\n",
      "30             casado   2o Grau     2.0    15.99    35   capital\n",
      "31           solteiro  Superior     NaN    16.22    31     outro\n",
      "32             casado   2o Grau     1.0    16.61    36  interior\n",
      "33             casado  Superior     3.0    17.26    43   capital\n",
      "34           solteiro  Superior     NaN    18.75    33   capital\n",
      "35             casado   2o Grau     2.0    19.40    48   capital\n",
      "36             casado  Superior     3.0    23.30    42  interior\n"
     ]
    }
   ],
   "source": [
    "# Saiba que a coluna meses não é necessária para a análise e deve ser retirada;\n",
    "dados = dados.drop('Meses', axis=1)\n",
    "print(dados)"
   ]
  },
  {
   "attachments": {},
   "cell_type": "markdown",
   "metadata": {},
   "source": [
    "### **Qual a média de idade dos funcionários?**"
   ]
  },
  {
   "cell_type": "code",
   "execution_count": 219,
   "metadata": {},
   "outputs": [
    {
     "name": "stdout",
     "output_type": "stream",
     "text": [
      "A média de idade dos funcionários é de 14.6 anos.\n"
     ]
    }
   ],
   "source": [
    "# Qual a média de idade dos funcionários?\n",
    "idade = dados['Anos'] - dados['Anos'].min()\n",
    "idade_media = idade.mean()\n",
    "print(f'A média de idade dos funcionários é de {idade_media:.1f} anos.')"
   ]
  },
  {
   "attachments": {},
   "cell_type": "markdown",
   "metadata": {},
   "source": [
    "### **Dos funcionários, com filhos, qual o número mais comum?**"
   ]
  },
  {
   "cell_type": "code",
   "execution_count": 220,
   "metadata": {},
   "outputs": [
    {
     "name": "stdout",
     "output_type": "stream",
     "text": [
      "O número mais comum de filhos entre os funcionários é 2.0 filhos\n"
     ]
    }
   ],
   "source": [
    "# Dos funcionários, com filhos, qual o número mais comum?\n",
    "filhos_comum = dados[dados['Filhos'] != 'NA']['Filhos'].value_counts().idxmax()\n",
    "print(f'O número mais comum de filhos entre os funcionários é {filhos_comum} filhos')"
   ]
  },
  {
   "attachments": {},
   "cell_type": "markdown",
   "metadata": {},
   "source": [
    "### **Qual a média e a mediana dos salários dos funcionários? O que esses valores podem indicar?**"
   ]
  },
  {
   "cell_type": "code",
   "execution_count": 221,
   "metadata": {},
   "outputs": [
    {
     "name": "stdout",
     "output_type": "stream",
     "text": [
      "A média leva em consideração todos os valores altos e baixos e indica o valor que representa o centro dos dados.\n",
      "A média dos valores de salário dos funcionários é de: 11.12\n",
      "A mediana indica em ordem qual é o valor que está exatamente no meio do conjunto de dados da coluna Salario.\n",
      "A mediana indica que metade dos funcionários têm valores de salário acima e abaixo de: 10.16\n"
     ]
    }
   ],
   "source": [
    "\n",
    "# Qual a média e a mediana dos salários dos funcionários? O que esses valores podem indicar?\n",
    "media_salarios = dados['Salario'].mean()\n",
    "mediana_salarios = dados['Salario'].median()\n",
    "print('A média leva em consideração todos os valores altos e baixos e indica o valor que representa o centro dos dados.')\n",
    "print('A média dos valores de salário dos funcionários é de:',round(media_salarios,2))\n",
    "print('A mediana indica em ordem qual é o valor que está exatamente no meio do conjunto de dados da coluna Salario.')\n",
    "print('A mediana indica que metade dos funcionários têm valores de salário acima e abaixo de:',round(mediana_salarios,2))"
   ]
  },
  {
   "attachments": {},
   "cell_type": "markdown",
   "metadata": {},
   "source": [
    "### **Quais são os tipos de instrução existentes?**"
   ]
  },
  {
   "cell_type": "code",
   "execution_count": 222,
   "metadata": {},
   "outputs": [
    {
     "name": "stdout",
     "output_type": "stream",
     "text": [
      "\n",
      "Tipos de instrução existentes: ['1o Grau' '2o Grau' 'Superior']\n"
     ]
    }
   ],
   "source": [
    "# Quais são os tipos de instrução existentes?\n",
    "formacao = dados['Inst'].unique()\n",
    "print('\\nTipos de instrução existentes:',formacao)"
   ]
  },
  {
   "attachments": {},
   "cell_type": "markdown",
   "metadata": {},
   "source": [
    "### **Qual a média de salário e idade das pessoas casadas?**"
   ]
  },
  {
   "cell_type": "code",
   "execution_count": 223,
   "metadata": {},
   "outputs": [
    {
     "name": "stdout",
     "output_type": "stream",
     "text": [
      "\n",
      "O valor da média de salário dos casados é de 12.12\n",
      "\n",
      "O valor da média de idade dos casados é de 35.1 anos.\n"
     ]
    }
   ],
   "source": [
    "# Qual a média de salário e idade das pessoas casadas?\n",
    "casados = dados[dados['Est.civil'] == 'casado']\n",
    "media_salario = casados['Salario'].mean()\n",
    "media_idade = casados['Anos'].mean()\n",
    "print(f'\\nO valor da média de salário dos casados é de {media_salario:.2f}')\n",
    "print(f'\\nO valor da média de idade dos casados é de {media_idade:.1f} anos.')"
   ]
  },
  {
   "attachments": {},
   "cell_type": "markdown",
   "metadata": {},
   "source": [
    "### **Qual o funcionário que possui maior salário (informe seus atributos)?**"
   ]
  },
  {
   "cell_type": "code",
   "execution_count": 224,
   "metadata": {},
   "outputs": [
    {
     "name": "stdout",
     "output_type": "stream",
     "text": [
      "Qual o funcionário que possui maior salário (informe seus atributos)?\n",
      "\n",
      "Est.civil      casado\n",
      "Inst         Superior\n",
      "Filhos            3.0\n",
      "Salario          23.3\n",
      "Anos               42\n",
      "Regiao       interior\n",
      "Name: 36, dtype: object\n"
     ]
    }
   ],
   "source": [
    "print('Qual o funcionário que possui maior salário (informe seus atributos)?\\n')\n",
    "maior_salario = dados.loc[dados['Salario'].idxmax()]\n",
    "print(maior_salario)"
   ]
  },
  {
   "attachments": {},
   "cell_type": "markdown",
   "metadata": {},
   "source": [
    "### **Qual o funcionário que possui menor idade (informe seus atributos)?**"
   ]
  },
  {
   "cell_type": "code",
   "execution_count": 225,
   "metadata": {},
   "outputs": [
    {
     "name": "stdout",
     "output_type": "stream",
     "text": [
      "\n",
      "Qual o funcionário que possui menor idade (informe seus atributos)?\n",
      "\n",
      "Est.civil    solteiro\n",
      "Inst          2o Grau\n",
      "Filhos            NaN\n",
      "Salario          5.73\n",
      "Anos               20\n",
      "Regiao          outro\n",
      "Name: 4, dtype: object\n"
     ]
    }
   ],
   "source": [
    "print('\\nQual o funcionário que possui menor idade (informe seus atributos)?\\n')\n",
    "mais_jovem = dados.sort_values(by=['Anos']).iloc[0]\n",
    "print(mais_jovem)"
   ]
  },
  {
   "attachments": {},
   "cell_type": "markdown",
   "metadata": {},
   "source": [
    "### **Quem são os funcionários que possuem no máximo 35 anos, são da capital e tem instrução de 2o grau?**"
   ]
  },
  {
   "cell_type": "code",
   "execution_count": 226,
   "metadata": {},
   "outputs": [
    {
     "name": "stdout",
     "output_type": "stream",
     "text": [
      "Quem são os funcionários que possuem no máximo 35 anos, são da capital e tem instrução de 2o grau?\n",
      "\n",
      "            Est.civil     Inst  Filhos  Salario  Anos   Regiao\n",
      "Funcionario                                                   \n",
      "9              casado  2o Grau     1.0     7.59    34  capital\n",
      "17             casado  2o Grau     1.0     9.77    31  capital\n",
      "22           solteiro  2o Grau     NaN    11.59    34  capital\n",
      "30             casado  2o Grau     2.0    15.99    35  capital\n"
     ]
    }
   ],
   "source": [
    "print('Quem são os funcionários que possuem no máximo 35 anos, são da capital e tem instrução de 2o grau?\\n')\n",
    "funcionarios_filtro = dados.loc[(dados['Anos'] <= 35) & (dados['Regiao'] == 'capital') & (dados['Inst'] == '2o Grau')]\n",
    "print(funcionarios_filtro)"
   ]
  },
  {
   "attachments": {},
   "cell_type": "markdown",
   "metadata": {},
   "source": [
    "### **Faça uma correlação entre todos os atributos. (Dica: mapeie os atributos qualitativos para atributos quantitativos. Ex: solteiro: 1, casado: 2, etc).**"
   ]
  },
  {
   "cell_type": "code",
   "execution_count": 247,
   "metadata": {},
   "outputs": [
    {
     "name": "stdout",
     "output_type": "stream",
     "text": [
      "           Est.civil      Inst    Filhos   Salario      Anos    Regiao\n",
      "Est.civil   1.000000  0.247156       NaN  0.247488  0.095369 -0.238647\n",
      "Inst        0.247156  1.000000 -0.006376  0.478305 -0.260400 -0.130223\n",
      "Filhos           NaN -0.006376  1.000000  0.358065  0.746539 -0.002554\n",
      "Salario     0.247488  0.478305  0.358065  1.000000  0.363362 -0.102727\n",
      "Anos        0.095369 -0.260400  0.746539  0.363362  1.000000  0.082419\n",
      "Regiao     -0.238647 -0.130223 -0.002554 -0.102727  0.082419  1.000000\n"
     ]
    }
   ],
   "source": [
    "# Conversão dos atributos qualitativos em quantitativos\n",
    "est_civil_map = {'solteiro': 1, 'casado': 2}\n",
    "inst_map = {'1o Grau': 1, '2o Grau': 2, 'superior': 3}\n",
    "regiao_map = {'interior': 1, 'capital': 2, 'outro': 3}\n",
    "\n",
    "dados['Est.civil'] = dados['Est.civil'].map(est_civil_map)\n",
    "dados['Inst'] = dados['Inst'].map(inst_map)\n",
    "dados['Regiao'] = dados['Regiao'].map(regiao_map)\n",
    "\n",
    "# Cálculo da matriz de correlação\n",
    "correlacao = dados.corr()\n",
    "\n",
    "# Exibição da matriz de correlação\n",
    "print(correlacao)\n"
   ]
  },
  {
   "attachments": {},
   "cell_type": "markdown",
   "metadata": {},
   "source": [
    "### **Forneça pelo menos mais 3 informações que você achar interessante.**"
   ]
  },
  {
   "attachments": {},
   "cell_type": "markdown",
   "metadata": {},
   "source": [
    "**Exibir a quantidade de funcionários casados e solteiros**"
   ]
  },
  {
   "cell_type": "code",
   "execution_count": 252,
   "metadata": {},
   "outputs": [
    {
     "name": "stdout",
     "output_type": "stream",
     "text": [
      "Exibindo resultado do número de funcionários casados e solteiros:\n",
      "casado      20\n",
      "solteiro    16\n",
      "Name: Est.civil, dtype: int64\n"
     ]
    }
   ],
   "source": [
    "import pandas as pd\n",
    "dados = pd.read_csv('milsa.csv')\n",
    "\n",
    "estado_civil = dados['Est.civil'].value_counts()\n",
    "print('Exibindo resultado do número de funcionários casados e solteiros:')\n",
    "print (estado_civil)"
   ]
  },
  {
   "attachments": {},
   "cell_type": "markdown",
   "metadata": {},
   "source": [
    "**Exibir a quantidade de funcionários por instrução:**"
   ]
  },
  {
   "cell_type": "code",
   "execution_count": 253,
   "metadata": {},
   "outputs": [
    {
     "name": "stdout",
     "output_type": "stream",
     "text": [
      "Exibindo resultado do número de funcionários que possuem 1o Grau e 2o Grau:\n",
      "2o Grau     18\n",
      "1o Grau     12\n",
      "Superior     6\n",
      "Name: Inst, dtype: int64\n"
     ]
    }
   ],
   "source": [
    "inst = dados['Inst'].value_counts()\n",
    "print('Exibindo resultado do número de funcionários que possuem 1o Grau e 2o Grau:')\n",
    "print(inst)"
   ]
  },
  {
   "attachments": {},
   "cell_type": "markdown",
   "metadata": {},
   "source": [
    "**Exibir o resultado do número de funcionários por região**"
   ]
  },
  {
   "cell_type": "code",
   "execution_count": 260,
   "metadata": {},
   "outputs": [
    {
     "name": "stdout",
     "output_type": "stream",
     "text": [
      "Exibindo resultado do número de funcionários por região:\n",
      "outro       13\n",
      "interior    12\n",
      "capital     11\n",
      "Name: Regiao, dtype: int64\n"
     ]
    }
   ],
   "source": [
    "regiao = dados['Regiao'].value_counts()\n",
    "print('Exibindo resultado do número de funcionários por região:')\n",
    "print(regiao)"
   ]
  }
 ],
 "metadata": {
  "kernelspec": {
   "display_name": "Python 3",
   "language": "python",
   "name": "python3"
  },
  "language_info": {
   "codemirror_mode": {
    "name": "ipython",
    "version": 3
   },
   "file_extension": ".py",
   "mimetype": "text/x-python",
   "name": "python",
   "nbconvert_exporter": "python",
   "pygments_lexer": "ipython3",
   "version": "3.11.1"
  },
  "orig_nbformat": 4
 },
 "nbformat": 4,
 "nbformat_minor": 2
}
